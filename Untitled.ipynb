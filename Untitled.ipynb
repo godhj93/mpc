{
 "cells": [
  {
   "cell_type": "code",
   "execution_count": 1,
   "id": "6d8a48ab",
   "metadata": {},
   "outputs": [],
   "source": [
    "import numpy as np\n",
    "import sys\n",
    "from casadi import *\n",
    "import os\n",
    "import do_mpc\n"
   ]
  },
  {
   "cell_type": "code",
   "execution_count": 2,
   "id": "b9c1528a",
   "metadata": {},
   "outputs": [],
   "source": [
    "model_type = 'continuous' # either 'discrete' or 'continuous'\n",
    "model = do_mpc.model.Model(model_type)"
   ]
  },
  {
   "cell_type": "code",
   "execution_count": 3,
   "id": "02a8d6c9",
   "metadata": {},
   "outputs": [],
   "source": [
    "m0 = 0.6  # kg, mass of the cart\n",
    "m1 = 0.2  # kg, mass of the first rod\n",
    "m2 = 0.2  # kg, mass of the second rod\n",
    "L1 = 0.5  # m,  length of the first rod\n",
    "L2 = 0.5  # m,  length of the second rod\n",
    "\n",
    "g = 9.80665 # m/s^2, Gravity"
   ]
  },
  {
   "cell_type": "code",
   "execution_count": 4,
   "id": "6cd8651b",
   "metadata": {},
   "outputs": [],
   "source": [
    "l1 = L1/2 # m,\n",
    "l2 = L2/2 # m,\n",
    "J1 = (m1 * l1**2) / 3   # Inertia\n",
    "J2 = (m2 * l2**2) / 3   # Inertia\n",
    "\n",
    "h1 = m0 + m1 + m2\n",
    "h2 = m1*l1 + m2*L1\n",
    "h3 = m2*l2\n",
    "h4 = m1*l1**2 + m2*L1**2 + J1\n",
    "h5 = m2*l2*L1\n",
    "h6 = m2*l2**2 + J2\n",
    "h7 = (m1*l1 + m2*L1) * g\n",
    "h8 = m2*l2*g"
   ]
  },
  {
   "cell_type": "code",
   "execution_count": 5,
   "id": "0445b9f1",
   "metadata": {},
   "outputs": [],
   "source": [
    "pos = model.set_variable('_x',  'pos')\n",
    "theta = model.set_variable('_x',  'theta', (2,1))\n",
    "dpos = model.set_variable('_x',  'dpos')\n",
    "dtheta = model.set_variable('_x',  'dtheta', (2,1))\n",
    "\n",
    "u = model.set_variable('_u',  'force')"
   ]
  },
  {
   "cell_type": "code",
   "execution_count": 6,
   "id": "dee34cdb",
   "metadata": {},
   "outputs": [],
   "source": [
    "ddpos = model.set_variable('_z', 'ddpos')\n",
    "ddtheta = model.set_variable('_z', 'ddtheta', (2,1))"
   ]
  },
  {
   "cell_type": "code",
   "execution_count": 7,
   "id": "c759b38d",
   "metadata": {},
   "outputs": [],
   "source": [
    "model.set_rhs('pos', dpos)\n",
    "model.set_rhs('theta', dtheta)\n",
    "model.set_rhs('dpos', ddpos)\n",
    "model.set_rhs('dtheta', ddtheta)"
   ]
  },
  {
   "cell_type": "code",
   "execution_count": 8,
   "id": "c7d26c08",
   "metadata": {},
   "outputs": [],
   "source": [
    "euler_lagrange = vertcat(\n",
    "        # 1\n",
    "        h1*ddpos+h2*ddtheta[0]*cos(theta[0])+h3*ddtheta[1]*cos(theta[1])\n",
    "        - (h2*dtheta[0]**2*sin(theta[0]) + h3*dtheta[1]**2*sin(theta[1]) + u),\n",
    "        # 2\n",
    "        h2*cos(theta[0])*ddpos + h4*ddtheta[0] + h5*cos(theta[0]-theta[1])*ddtheta[1]\n",
    "        - (h7*sin(theta[0]) - h5*dtheta[1]**2*sin(theta[0]-theta[1])),\n",
    "        # 3\n",
    "        h3*cos(theta[1])*ddpos + h5*cos(theta[0]-theta[1])*ddtheta[0] + h6*ddtheta[1]\n",
    "        - (h5*dtheta[0]**2*sin(theta[0]-theta[1]) + h8*sin(theta[1]))\n",
    "    )\n",
    "\n",
    "model.set_alg('euler_lagrange', euler_lagrange)"
   ]
  },
  {
   "cell_type": "code",
   "execution_count": 9,
   "id": "f0854261",
   "metadata": {},
   "outputs": [
    {
     "data": {
      "text/plain": [
       "SX(((0.490333*cos(theta_0))+(1.96133*((0.5*cos(theta_0))+(0.25*cos(theta_1))))))"
      ]
     },
     "execution_count": 9,
     "metadata": {},
     "output_type": "execute_result"
    }
   ],
   "source": [
    "E_kin_cart = 1 / 2 * m0 * dpos**2\n",
    "E_kin_p1 = 1 / 2 * m1 * (\n",
    "    (dpos + l1 * dtheta[0] * cos(theta[0]))**2 +\n",
    "    (l1 * dtheta[0] * sin(theta[0]))**2) + 1 / 2 * J1 * dtheta[0]**2\n",
    "E_kin_p2 = 1 / 2 * m2 * (\n",
    "    (dpos + L1 * dtheta[0] * cos(theta[0]) + l2 * dtheta[1] * cos(theta[1]))**2 +\n",
    "    (L1 * dtheta[0] * sin(theta[0]) + l2 * dtheta[1] * sin(theta[1]))**\n",
    "    2) + 1 / 2 * J2 * dtheta[0]**2\n",
    "\n",
    "E_kin = E_kin_cart + E_kin_p1 + E_kin_p2\n",
    "\n",
    "E_pot = m1 * g * l1 * cos(\n",
    "theta[0]) + m2 * g * (L1 * cos(theta[0]) +\n",
    "                            l2 * cos(theta[1]))\n",
    "\n",
    "model.set_expression('E_kin', E_kin)\n",
    "model.set_expression('E_pot', E_pot)"
   ]
  },
  {
   "cell_type": "code",
   "execution_count": 10,
   "id": "04b33531",
   "metadata": {},
   "outputs": [],
   "source": [
    "# Build the model\n",
    "model.setup()"
   ]
  },
  {
   "cell_type": "code",
   "execution_count": 11,
   "id": "745c6c45",
   "metadata": {},
   "outputs": [],
   "source": [
    "mpc = do_mpc.controller.MPC(model)"
   ]
  },
  {
   "cell_type": "code",
   "execution_count": 12,
   "id": "7f26a022",
   "metadata": {},
   "outputs": [],
   "source": [
    "setup_mpc = {\n",
    "    'n_horizon': 100,\n",
    "    'n_robust': 0,\n",
    "    'open_loop': 0,\n",
    "    't_step': 0.04,\n",
    "    'state_discretization': 'collocation',\n",
    "    'collocation_type': 'radau',\n",
    "    'collocation_deg': 3,\n",
    "    'collocation_ni': 1,\n",
    "    'store_full_solution': True,\n",
    "    # Use MA27 linear solver in ipopt for faster calculations:\n",
    "    'nlpsol_opts': {'ipopt.linear_solver': 'mumps'}\n",
    "}\n",
    "mpc.set_param(**setup_mpc)"
   ]
  },
  {
   "cell_type": "code",
   "execution_count": 13,
   "id": "cc0c6c33",
   "metadata": {},
   "outputs": [],
   "source": [
    "mterm = model.aux['E_kin'] - model.aux['E_pot'] # terminal cost\n",
    "lterm = model.aux['E_kin'] - model.aux['E_pot'] # stage cost\n",
    "\n",
    "mpc.set_objective(mterm=mterm, lterm=lterm)\n",
    "# Input force is implicitly restricted through the objective.\n",
    "mpc.set_rterm(force=0.1)"
   ]
  },
  {
   "cell_type": "code",
   "execution_count": 14,
   "id": "26e5866a",
   "metadata": {},
   "outputs": [],
   "source": [
    "mpc.bounds['lower','_u','force'] = -4\n",
    "mpc.bounds['upper','_u','force'] = 4"
   ]
  },
  {
   "cell_type": "code",
   "execution_count": null,
   "id": "9076f97c",
   "metadata": {},
   "outputs": [],
   "source": []
  }
 ],
 "metadata": {
  "kernelspec": {
   "display_name": "Python 3 (ipykernel)",
   "language": "python",
   "name": "python3"
  },
  "language_info": {
   "codemirror_mode": {
    "name": "ipython",
    "version": 3
   },
   "file_extension": ".py",
   "mimetype": "text/x-python",
   "name": "python",
   "nbconvert_exporter": "python",
   "pygments_lexer": "ipython3",
   "version": "3.9.12"
  }
 },
 "nbformat": 4,
 "nbformat_minor": 5
}
