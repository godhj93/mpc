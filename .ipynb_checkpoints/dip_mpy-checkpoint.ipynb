{
 "cells": [
  {
   "cell_type": "markdown",
   "metadata": {},
   "source": [
    "# Double inverted pendulum\n",
    "\n",
    "In this Jupyter Notebook we illustrate the example **DIP**. This example illustrates how to use **DAE** models in **do-mpc**.\n",
    "\n",
    "**Open an interactive online Jupyter Notebook with this content on Binder:**\n",
    "\n",
    "[![Binder](https://mybinder.org/badge_logo.svg)](https://mybinder.org/v2/gh/do-mpc/do-mpc/master?labpath=%2Fdocumentation%2Fsource%2Fexample_gallery%2FDIP.ipynb)\n",
    "\n",
    "\n",
    "The example consists of the three modules **template_model.py**, which describes the system model, **template_mpc.py**, which defines the settings for the control and **template_simulator.py**, which sets the parameters for the simulator.\n",
    "The modules are used in **main.py** for the closed-loop execution of the controller.\n",
    "\n",
    "We start by importing basic modules and **do-mpc**."
   ]
  },
  {
   "cell_type": "code",
   "execution_count": 1,
   "metadata": {},
   "outputs": [],
   "source": [
    "import numpy as np\n",
    "import sys\n",
    "from casadi import *\n",
    "\n",
    "# Add do_mpc to path. This is not necessary if it was installed via pip\n",
    "import os\n",
    "rel_do_mpc_path = os.path.join('..','..','..')\n",
    "sys.path.append(rel_do_mpc_path)\n",
    "\n",
    "# Import do_mpc package:\n",
    "import do_mpc"
   ]
  },
  {
   "cell_type": "markdown",
   "metadata": {},
   "source": [
    "## Model"
   ]
  },
  {
   "cell_type": "markdown",
   "metadata": {},
   "source": [
    "In the following we will present the configuration, setup and connection between these blocks, starting with the `model`. "
   ]
  },
  {
   "cell_type": "markdown",
   "metadata": {},
   "source": [
    "In this example we consider the double pendulum on a card as depicted below:\n",
    "\n",
    "\n",
    "<img src=\"dip_sketch.svg\" width=\"60%\">\n",
    "\n",
    "The system is described in terms of its horizontal position $x$ and the two angles $\\theta$, where $\\theta_1 = \\theta_2 = 0$ denotes the upright position.\n",
    "\n",
    "We will formulate a continuous dynamic model for this system and start by initiating a **do-mpc** ``Model`` instance:"
   ]
  },
  {
   "cell_type": "code",
   "execution_count": 2,
   "metadata": {},
   "outputs": [],
   "source": [
    "model_type = 'continuous' # either 'discrete' or 'continuous'\n",
    "model = do_mpc.model.Model(model_type)"
   ]
  },
  {
   "cell_type": "markdown",
   "metadata": {},
   "source": [
    "### Parameters\n",
    "\n",
    "The model is configured with the following (certain) parameters:"
   ]
  },
  {
   "cell_type": "code",
   "execution_count": 3,
   "metadata": {},
   "outputs": [],
   "source": [
    "m0 = 0.6  # kg, mass of the cart\n",
    "m1 = 0.2  # kg, mass of the first rod\n",
    "m2 = 0.2  # kg, mass of the second rod\n",
    "L1 = 0.5  # m,  length of the first rod\n",
    "L2 = 0.5  # m,  length of the second rod\n",
    "\n",
    "g = 9.80665 # m/s^2, Gravity "
   ]
  },
  {
   "cell_type": "markdown",
   "metadata": {},
   "source": [
    "We furthermore introduce the following derived parameters to conveniently formulate the model equations below."
   ]
  },
  {
   "cell_type": "code",
   "execution_count": 4,
   "metadata": {},
   "outputs": [],
   "source": [
    "l1 = L1/2 # m,  \n",
    "l2 = L2/2 # m,\n",
    "J1 = (m1 * l1**2) / 3   # Inertia\n",
    "J2 = (m2 * l2**2) / 3   # Inertia\n",
    "\n",
    "h1 = m0 + m1 + m2\n",
    "h2 = m1*l1 + m2*L1\n",
    "h3 = m2*l2\n",
    "h4 = m1*l1**2 + m2*L1**2 + J1\n",
    "h5 = m2*l2*L1\n",
    "h6 = m2*l2**2 + J2\n",
    "h7 = (m1*l1 + m2*L1) * g\n",
    "h8 = m2*l2*g"
   ]
  },
  {
   "cell_type": "markdown",
   "metadata": {},
   "source": [
    "### Euler-Lagrangian equations"
   ]
  },
  {
   "cell_type": "markdown",
   "metadata": {},
   "source": [
    "The dynamics of the double pendulum can be derived from the Euler-Lagrangian equations, which yield:\n",
    "\n",
    "\\begin{align}\n",
    "h_1\\ddot{x}+h_2\\ddot{\\theta}_1\\cos(\\theta_1)+h_3\\ddot{\\theta}_2\\cos(\\theta_2)\n",
    "&= (h_2\\dot{\\theta}_1^{2}\\sin(\\theta_1) + h_3\\dot{\\theta}_2^{2}\\sin(\\theta_2) + u)\\\\\n",
    "h_2\\cos(\\theta_1)\\ddot{x} + h_4\\ddot{\\theta}_1 + h_5\\cos(\\theta_1-\\theta_2)\\ddot{\\theta}_2\n",
    "&= (h_7\\sin(\\theta_1) - h_5\\dot{\\theta}_2^{2}\\sin(\\theta_1-\\theta_2))\\\\\n",
    "h_3\\cos(\\theta_2)\\ddot{x} + h_5\\cos(\\theta_1-\\theta_2)\\ddot{\\theta}_1 + h_6\\ddot{\\theta}_2\n",
    "&= (h_5\\dot{\\theta}_1^{2}\\sin(\\theta_1-\\theta_2) + h_8\\sin(\\theta_2))\n",
    "\\end{align}"
   ]
  },
  {
   "cell_type": "markdown",
   "metadata": {},
   "source": [
    "we introduce the states\n",
    "\n",
    "$$x=[x,\\theta_1, \\theta_2, \\dot{x}, \\dot{\\theta}_1, \\dot{\\theta}_2]^T$$\n",
    "\n",
    "and input:\n",
    "\n",
    "$$ u = f$$\n",
    "\n",
    "which is the horizontal force applied to the cart."
   ]
  },
  {
   "cell_type": "code",
   "execution_count": 5,
   "metadata": {},
   "outputs": [],
   "source": [
    "pos = model.set_variable('_x',  'pos')\n",
    "theta = model.set_variable('_x',  'theta', (2,1))\n",
    "dpos = model.set_variable('_x',  'dpos')\n",
    "dtheta = model.set_variable('_x',  'dtheta', (2,1))\n",
    "\n",
    "u = model.set_variable('_u',  'force')"
   ]
  },
  {
   "cell_type": "markdown",
   "metadata": {},
   "source": [
    "**At this point we have two options.** The typical approach would be to rewrite the system as:\n",
    "\n",
    "$$M(x) \\dot x = A(x) x + B u$$\n",
    "\n",
    "where it can be shown that \n",
    "\n",
    "$$ \\det(M) > 0, \\forall x$$\n",
    "\n",
    "such that we can obtain the ODE:\n",
    "\n",
    "$$\\dot x = M(x)^{-1}(A(x)x + B u)$$\n",
    "\n",
    "**do-mpc** fully supports this option but it requires some nasty reformulations of the above equations and yields a very complex expression for the ODE. \n",
    "\n",
    "Instead we suggest ...\n",
    "\n",
    "### Differential algebraic equation (DAE)\n",
    "\n",
    "We introduce new algebraic states \n",
    "\n",
    "$$ z=[\\ddot{x}, \\ddot{\\theta}_1, \\ddot{\\theta}_2]^T$$"
   ]
  },
  {
   "cell_type": "code",
   "execution_count": 6,
   "metadata": {},
   "outputs": [],
   "source": [
    "ddpos = model.set_variable('_z', 'ddpos')\n",
    "ddtheta = model.set_variable('_z', 'ddtheta', (2,1))"
   ]
  },
  {
   "cell_type": "markdown",
   "metadata": {},
   "source": [
    "which makes it very convenient to formulate the ODE in terms of $x,u,z$:\n",
    "\n",
    "$$ \\dot{x} = [\\dot{x}, \\dot{\\theta}_1, \\dot{\\theta}_2, \\ddot{x}, \\ddot{\\theta}_1, \\ddot{\\theta}_2]^T$$"
   ]
  },
  {
   "cell_type": "code",
   "execution_count": 7,
   "metadata": {},
   "outputs": [],
   "source": [
    "model.set_rhs('pos', dpos)\n",
    "model.set_rhs('theta', dtheta)\n",
    "model.set_rhs('dpos', ddpos)\n",
    "model.set_rhs('dtheta', ddtheta)"
   ]
  },
  {
   "cell_type": "markdown",
   "metadata": {},
   "source": [
    "The only remaining challenge is to implement the relationship between $x,u$ and $z$, in the form of:\n",
    "\n",
    "$$g(x,u,z)=0$$\n",
    "\n",
    "with **do-mpc** this is easily achieved:"
   ]
  },
  {
   "cell_type": "code",
   "execution_count": 8,
   "metadata": {},
   "outputs": [],
   "source": [
    "euler_lagrange = vertcat(\n",
    "        # 1\n",
    "        h1*ddpos+h2*ddtheta[0]*cos(theta[0])+h3*ddtheta[1]*cos(theta[1])\n",
    "        - (h2*dtheta[0]**2*sin(theta[0]) + h3*dtheta[1]**2*sin(theta[1]) + u),\n",
    "        # 2\n",
    "        h2*cos(theta[0])*ddpos + h4*ddtheta[0] + h5*cos(theta[0]-theta[1])*ddtheta[1]\n",
    "        - (h7*sin(theta[0]) - h5*dtheta[1]**2*sin(theta[0]-theta[1])),\n",
    "        # 3\n",
    "        h3*cos(theta[1])*ddpos + h5*cos(theta[0]-theta[1])*ddtheta[0] + h6*ddtheta[1]\n",
    "        - (h5*dtheta[0]**2*sin(theta[0]-theta[1]) + h8*sin(theta[1]))\n",
    "    )\n",
    "\n",
    "model.set_alg('euler_lagrange', euler_lagrange)"
   ]
  },
  {
   "cell_type": "markdown",
   "metadata": {},
   "source": [
    "with just a few lines of code we have defined the dynamics of the double pendulum!"
   ]
  },
  {
   "cell_type": "markdown",
   "metadata": {},
   "source": [
    "### Energy equations\n",
    "\n",
    "The next step is to introduce new \"auxiliary\" expressions to **do-mpc** for the kinetic and potential energy of the system. This is required in this example, because we will need these expressions for the formulation of the MPC controller. \n",
    "\n",
    "Introducing these expressions has the additional advantage that **do-mpc** saves and exports the calculated values, which is great for monitoring and debugging.\n",
    "\n",
    "For the kinetic energy, we have:\n",
    "\n",
    "$$\n",
    "\\begin{aligned}\n",
    "E_{\\text{kin,cart}} &= \\frac{1}{2}  m  \\dot{x}^{2}\\\\\n",
    "E_{\\text{kin}, p_1} &= \\frac{1}{2}  m_1  (\n",
    "(\\dot{x} + l_1  \\dot{\\theta}_1  \\cos(\\theta_1))^{2} +\n",
    "(l_1  \\dot{\\theta}_1  \\sin(\\theta_1))^{2}) + \\frac{1}{2}  J_1  \\dot{\\theta}_1^{2}\\\\\n",
    "E_{\\text{kin}, p_2} &= \\frac{1}{2}  m_2  (\n",
    "(\\dot{x} + L_1  \\dot{\\theta}_1  \\cos(\\theta_1) + l_2  \\dot{\\theta}_2  \\cos(\\theta_2))^{2}  \\\\\n",
    "&+ (L_1  \\dot{\\theta}_1  \\sin(\\theta_1) + l_2  \\dot{\\theta}_2  \\sin(\\theta_2))^2) + \\frac{1}{2}  J_2  \\dot{\\theta}_1^{2}\n",
    "\\end{aligned}\n",
    "$$\n",
    "\n",
    "and for the potential energy:\n",
    "\n",
    "$$\n",
    "E_{\\text{pot}} = m_1 g  l_1 \\cos(\\theta_1) + m_2 g (L_1 \\cos(\\theta_1) + l_2 \\cos(\\theta_2))\n",
    "$$\n",
    "\n",
    "It only remains to formulate the expressions and set them to the model:"
   ]
  },
  {
   "cell_type": "code",
   "execution_count": 9,
   "metadata": {},
   "outputs": [
    {
     "data": {
      "text/plain": [
       "SX(((0.490333*cos(theta_0))+(1.96133*((0.5*cos(theta_0))+(0.25*cos(theta_1))))))"
      ]
     },
     "execution_count": 9,
     "metadata": {},
     "output_type": "execute_result"
    }
   ],
   "source": [
    "E_kin_cart = 1 / 2 * m0 * dpos**2\n",
    "E_kin_p1 = 1 / 2 * m1 * (\n",
    "    (dpos + l1 * dtheta[0] * cos(theta[0]))**2 +\n",
    "    (l1 * dtheta[0] * sin(theta[0]))**2) + 1 / 2 * J1 * dtheta[0]**2\n",
    "E_kin_p2 = 1 / 2 * m2 * (\n",
    "    (dpos + L1 * dtheta[0] * cos(theta[0]) + l2 * dtheta[1] * cos(theta[1]))**2 +\n",
    "    (L1 * dtheta[0] * sin(theta[0]) + l2 * dtheta[1] * sin(theta[1]))**\n",
    "    2) + 1 / 2 * J2 * dtheta[0]**2\n",
    "\n",
    "E_kin = E_kin_cart + E_kin_p1 + E_kin_p2\n",
    "\n",
    "E_pot = m1 * g * l1 * cos(\n",
    "theta[0]) + m2 * g * (L1 * cos(theta[0]) +\n",
    "                            l2 * cos(theta[1]))\n",
    "\n",
    "model.set_expression('E_kin', E_kin)\n",
    "model.set_expression('E_pot', E_pot)"
   ]
  },
  {
   "cell_type": "markdown",
   "metadata": {},
   "source": [
    "Finally, the model setup is completed:"
   ]
  },
  {
   "cell_type": "code",
   "execution_count": 10,
   "metadata": {},
   "outputs": [],
   "source": [
    "# Build the model\n",
    "model.setup()"
   ]
  },
  {
   "cell_type": "markdown",
   "metadata": {},
   "source": [
    "## Controller\n"
   ]
  },
  {
   "cell_type": "markdown",
   "metadata": {},
   "source": [
    "Next, the controller is configured.\n",
    "First, an instance of the ``MPC`` class is generated with the prediction model defined above:"
   ]
  },
  {
   "cell_type": "code",
   "execution_count": 11,
   "metadata": {},
   "outputs": [],
   "source": [
    "mpc = do_mpc.controller.MPC(model)"
   ]
  },
  {
   "cell_type": "markdown",
   "metadata": {},
   "source": [
    "We choose the prediction horizon `n_horizon=100`, set the robust horizon `n_robust = 0`. The time step `t_step` is set to $0.04s$ and parameters of the applied discretization scheme orthogonal collocation are as seen below:"
   ]
  },
  {
   "cell_type": "code",
   "execution_count": 12,
   "metadata": {},
   "outputs": [],
   "source": [
    "setup_mpc = {\n",
    "    'n_horizon': 100,\n",
    "    'n_robust': 0,\n",
    "    'open_loop': 0,\n",
    "    't_step': 0.04,\n",
    "    'state_discretization': 'collocation',\n",
    "    'collocation_type': 'radau',\n",
    "    'collocation_deg': 3,\n",
    "    'collocation_ni': 1,\n",
    "    'store_full_solution': True,\n",
    "    # Use MA27 linear solver in ipopt for faster calculations:\n",
    "    'nlpsol_opts': {'ipopt.linear_solver': 'mumps'}\n",
    "}\n",
    "mpc.set_param(**setup_mpc)"
   ]
  },
  {
   "cell_type": "markdown",
   "metadata": {},
   "source": [
    "### Objective\n",
    "\n",
    "The control objective is to errect the double pendulum and to stabilize it in the up-up position. It is not straight-forward to formulate an objective which yields this result. Classical set-point tracking, e.g. with the set-point:\n",
    "\n",
    "$$\n",
    "\\theta_s = [0,0,0]\n",
    "$$\n",
    "\n",
    "and a quadratic cost:\n",
    "\n",
    "$$\n",
    "J = \\sum_{k=0}^N (\\theta-\\theta_s)^2\n",
    "$$\n",
    "\n",
    "is **known to work very poorly**. Clearly, the problem results from the fact that $\\theta_s = 2\\pi n,\\ n\\in\\mathbb{Z}$ is also a valid solution. \n",
    "\n",
    "Instead we will use an energy-based formulation for the objective. If we think of energy in terms of potential and kinetic energy it is clear that we want to maximize the potential energy (up-up position) and minimize the kinetic energy (stabilization).\n",
    "\n",
    "Since we have already introduced the expressions for the potential and kinetic energy in the model, we can now simply reuse these expresssions for the fomulation of the objective function, as shown below:"
   ]
  },
  {
   "cell_type": "code",
   "execution_count": 13,
   "metadata": {},
   "outputs": [],
   "source": [
    "mterm = model.aux['E_kin'] - model.aux['E_pot'] # terminal cost\n",
    "lterm = model.aux['E_kin'] - model.aux['E_pot'] # stage cost\n",
    "\n",
    "mpc.set_objective(mterm=mterm, lterm=lterm)\n",
    "# Input force is implicitly restricted through the objective.\n",
    "mpc.set_rterm(force=0.1)"
   ]
  },
  {
   "cell_type": "markdown",
   "metadata": {},
   "source": [
    "### Constraints\n",
    "\n",
    "In the next step, the constraints of the control problem are set.\n",
    "In this case, there is only an upper and lower bounds for the input."
   ]
  },
  {
   "cell_type": "code",
   "execution_count": 14,
   "metadata": {},
   "outputs": [],
   "source": [
    "mpc.bounds['lower','_u','force'] = -4\n",
    "mpc.bounds['upper','_u','force'] = 4"
   ]
  },
  {
   "cell_type": "markdown",
   "metadata": {},
   "source": [
    "We can now setup the controller."
   ]
  },
  {
   "cell_type": "code",
   "execution_count": 15,
   "metadata": {},
   "outputs": [],
   "source": [
    "mpc.setup()"
   ]
  },
  {
   "cell_type": "markdown",
   "metadata": {},
   "source": [
    "## Estimator\n",
    "\n",
    "We assume, that all states can be directly measured (state-feedback):"
   ]
  },
  {
   "cell_type": "code",
   "execution_count": 16,
   "metadata": {},
   "outputs": [],
   "source": [
    "estimator = do_mpc.estimator.StateFeedback(model)"
   ]
  },
  {
   "cell_type": "markdown",
   "metadata": {},
   "source": [
    "## Simulator\n",
    "\n",
    "To create a simulator in order to run the MPC in a closed-loop, we create an instance of the **do-mpc** simulator which is based on the same model:"
   ]
  },
  {
   "cell_type": "code",
   "execution_count": 17,
   "metadata": {},
   "outputs": [],
   "source": [
    "simulator = do_mpc.simulator.Simulator(model)"
   ]
  },
  {
   "cell_type": "markdown",
   "metadata": {},
   "source": [
    "For the simulation, we use the time step `t_step` as for the optimizer:"
   ]
  },
  {
   "cell_type": "code",
   "execution_count": 18,
   "metadata": {},
   "outputs": [],
   "source": [
    "params_simulator = {\n",
    "    # Note: cvode doesn't support DAE systems.\n",
    "    'integration_tool': 'idas',\n",
    "    'abstol': 1e-8,\n",
    "    'reltol': 1e-8,\n",
    "    't_step': 0.04\n",
    "}\n",
    "\n",
    "simulator.set_param(**params_simulator)"
   ]
  },
  {
   "cell_type": "code",
   "execution_count": 19,
   "metadata": {},
   "outputs": [],
   "source": [
    "simulator.setup()"
   ]
  },
  {
   "cell_type": "markdown",
   "metadata": {},
   "source": [
    "## Closed-loop simulation\n",
    "\n",
    "For the simulation of the MPC configured for the DIP, we inspect the file **main.py**.\n",
    "We define the initial state of the system and set for all parts of the closed-loop configuration:"
   ]
  },
  {
   "cell_type": "code",
   "execution_count": 20,
   "metadata": {},
   "outputs": [],
   "source": [
    "simulator.x0['theta'] = 0.99*np.pi\n",
    "\n",
    "x0 = simulator.x0.cat.full()\n",
    "\n",
    "mpc.x0 = x0\n",
    "estimator.x0 = x0\n",
    "\n",
    "mpc.set_initial_guess()"
   ]
  },
  {
   "cell_type": "markdown",
   "metadata": {},
   "source": [
    "Note that ``mpc.set_initial_guess()`` is very important in this example. Also note that we didn't set the initial state at exactly $\\pi$ which results in unfavorable numerical issues (it will work however)."
   ]
  },
  {
   "cell_type": "markdown",
   "metadata": {},
   "source": [
    "### Prepare visualization\n",
    "\n",
    "For the visualization of the control performance, we first import matplotlib and change some basic settings:"
   ]
  },
  {
   "cell_type": "code",
   "execution_count": 21,
   "metadata": {},
   "outputs": [],
   "source": [
    "import matplotlib.pyplot as plt\n",
    "plt.ion()\n",
    "from matplotlib import rcParams\n",
    "rcParams['text.usetex'] = False\n",
    "rcParams['axes.grid'] = True\n",
    "rcParams['lines.linewidth'] = 2.0\n",
    "rcParams['axes.labelsize'] = 'xx-large'\n",
    "rcParams['xtick.labelsize'] = 'xx-large'\n",
    "rcParams['ytick.labelsize'] = 'xx-large'"
   ]
  },
  {
   "cell_type": "markdown",
   "metadata": {},
   "source": [
    "We use the plotting capabilities, which are included in **do-mpc**.\n",
    "The `mpc_graphics` contain information like the current estimated state and the predicted trajectory of the states and inputs based on the solution of the control problem.\n",
    "The `sim_graphics` contain the information about the simulated evaluation of the system."
   ]
  },
  {
   "cell_type": "code",
   "execution_count": 22,
   "metadata": {},
   "outputs": [],
   "source": [
    "mpc_graphics = do_mpc.graphics.Graphics(mpc.data)"
   ]
  },
  {
   "cell_type": "markdown",
   "metadata": {},
   "source": [
    "For the example of the DIP we create a new function which takes as input the states (at a given time $k$) and returns the x and y positions of the two bars (the arms of the pendulum)."
   ]
  },
  {
   "cell_type": "code",
   "execution_count": 23,
   "metadata": {},
   "outputs": [],
   "source": [
    "def pendulum_bars(x):\n",
    "    x = x.flatten()\n",
    "    # Get the x,y coordinates of the two bars for the given state x.\n",
    "    line_1_x = np.array([\n",
    "        x[0],\n",
    "        x[0]+L1*np.sin(x[1])\n",
    "    ])\n",
    "\n",
    "    line_1_y = np.array([\n",
    "        0,\n",
    "        L1*np.cos(x[1])\n",
    "    ])\n",
    "\n",
    "    line_2_x = np.array([\n",
    "        line_1_x[1],\n",
    "        line_1_x[1] + L2*np.sin(x[2])\n",
    "    ])\n",
    "\n",
    "    line_2_y = np.array([\n",
    "        line_1_y[1],\n",
    "        line_1_y[1] + L2*np.cos(x[2])\n",
    "    ])\n",
    "\n",
    "    line_1 = np.stack((line_1_x, line_1_y))\n",
    "    line_2 = np.stack((line_2_x, line_2_y))\n",
    "\n",
    "    return line_1, line_2"
   ]
  },
  {
   "cell_type": "markdown",
   "metadata": {},
   "source": [
    "We then setup a graphic:"
   ]
  },
  {
   "cell_type": "code",
   "execution_count": 24,
   "metadata": {},
   "outputs": [],
   "source": [
    "%%capture\n",
    "\n",
    "fig = plt.figure(figsize=(16,9))\n",
    "\n",
    "ax1 = plt.subplot2grid((4, 2), (0, 0), rowspan=4)\n",
    "ax2 = plt.subplot2grid((4, 2), (0, 1))\n",
    "ax3 = plt.subplot2grid((4, 2), (1, 1))\n",
    "ax4 = plt.subplot2grid((4, 2), (2, 1))\n",
    "ax5 = plt.subplot2grid((4, 2), (3, 1))\n",
    "\n",
    "ax2.set_ylabel('$E_{kin}$ [J]')\n",
    "ax3.set_ylabel('$E_{pot}$ [J]')\n",
    "ax4.set_ylabel('Angle  [rad]')\n",
    "ax5.set_ylabel('Input force [N]')\n",
    "\n",
    "# Axis on the right.\n",
    "for ax in [ax2, ax3, ax4, ax5]:\n",
    "    ax.yaxis.set_label_position(\"right\")\n",
    "    ax.yaxis.tick_right()\n",
    "    if ax != ax5:\n",
    "        ax.xaxis.set_ticklabels([])\n",
    "        \n",
    "ax5.set_xlabel('time [s]')\n",
    "\n",
    "mpc_graphics.add_line(var_type='_aux', var_name='E_kin', axis=ax2)\n",
    "mpc_graphics.add_line(var_type='_aux', var_name='E_pot', axis=ax3)\n",
    "mpc_graphics.add_line(var_type='_x', var_name='theta', axis=ax4)\n",
    "mpc_graphics.add_line(var_type='_u', var_name='force', axis=ax5)\n",
    "\n",
    "ax1.axhline(0,color='black')\n",
    "\n",
    "bar1 = ax1.plot([],[], '-o', linewidth=5, markersize=10)\n",
    "bar2 = ax1.plot([],[], '-o', linewidth=5, markersize=10)\n",
    "\n",
    "ax1.set_xlim(-1.8,1.8)\n",
    "ax1.set_ylim(-1.2,1.2)\n",
    "ax1.set_axis_off()\n",
    "\n",
    "fig.align_ylabels()\n",
    "fig.tight_layout()"
   ]
  },
  {
   "cell_type": "markdown",
   "metadata": {},
   "source": [
    "### Run open-loop\n",
    "\n",
    "Before we test the closed loop case, lets plot one open-loop prediction to check how the resulting graphic looks like."
   ]
  },
  {
   "cell_type": "code",
   "execution_count": 25,
   "metadata": {},
   "outputs": [
    {
     "name": "stdout",
     "output_type": "stream",
     "text": [
      "\n",
      "******************************************************************************\n",
      "This program contains Ipopt, a library for large-scale nonlinear optimization.\n",
      " Ipopt is released as open source code under the Eclipse Public License (EPL).\n",
      "         For more information visit https://github.com/coin-or/Ipopt\n",
      "******************************************************************************\n",
      "\n",
      "This is Ipopt version 3.14.11, running with linear solver MUMPS 5.4.1.\n",
      "\n",
      "Number of nonzeros in equality constraint Jacobian...:    19406\n",
      "Number of nonzeros in inequality constraint Jacobian.:        0\n",
      "Number of nonzeros in Lagrangian Hessian.............:     6814\n",
      "\n",
      "Total number of variables............................:     4330\n",
      "                     variables with only lower bounds:        0\n",
      "                variables with lower and upper bounds:      100\n",
      "                     variables with only upper bounds:        0\n",
      "Total number of equality constraints.................:     4206\n",
      "Total number of inequality constraints...............:        0\n",
      "        inequality constraints with only lower bounds:        0\n",
      "   inequality constraints with lower and upper bounds:        0\n",
      "        inequality constraints with only upper bounds:        0\n",
      "\n",
      "iter    objective    inf_pr   inf_du lg(mu)  ||d||  lg(rg) alpha_du alpha_pr  ls\n",
      "   0  1.9799658e+02 4.62e-02 1.00e-03  -1.0 0.00e+00    -  0.00e+00 0.00e+00   0\n",
      "   1  1.9809206e+02 7.33e-05 3.25e-04  -1.0 1.53e+00  -4.0 1.00e+00 1.00e+00h  1\n",
      "   2  1.9808344e+02 8.59e-05 1.22e-04  -2.5 4.56e-01  -3.6 1.00e+00 1.00e+00h  1\n",
      "   3  1.9753270e+02 2.78e+00 5.70e-01  -3.8 2.32e+01  -4.1 6.69e-01 1.00e+00f  1\n",
      "   4  1.9586898e+02 2.82e-01 3.12e-01  -3.8 1.14e+01  -3.6 3.78e-01 1.00e+00h  1\n",
      "   5  1.9529674e+02 1.38e+00 1.17e+00  -3.8 5.85e+01  -4.1 4.40e-01 4.20e-01H  1\n",
      "   6  1.9266815e+02 2.02e-01 3.44e-01  -3.8 9.02e+00  -3.7 1.63e-02 1.00e+00h  1\n",
      "   7  1.9230231e+02 1.47e-01 2.58e-01  -3.8 2.10e+01  -4.2 9.32e-01 2.44e-01h  1\n",
      "   8  1.9168746e+02 3.42e-02 2.53e-02  -3.8 6.96e+00  -3.7 1.00e+00 1.00e+00h  1\n",
      "   9  1.9143721e+02 3.64e-02 1.08e-01  -3.8 2.48e+01  -4.2 1.00e+00 1.82e-01h  1\n",
      "iter    objective    inf_pr   inf_du lg(mu)  ||d||  lg(rg) alpha_du alpha_pr  ls\n",
      "  10  1.9079371e+02 3.46e-01 7.82e-01  -3.8 4.32e+02  -4.7 4.15e-01 6.65e-02f  1\n",
      "  11  1.8908306e+02 4.01e-01 4.09e-01  -3.8 4.52e+01  -4.3 1.00e+00 8.14e-01h  1\n",
      "  12  1.8756861e+02 2.58e-01 1.53e-01  -3.8 1.60e+01  -3.8 9.86e-01 1.00e+00h  1\n",
      "  13  1.8672963e+02 1.14e-01 1.17e-01  -3.8 9.14e+00  -3.4 1.00e+00 7.85e-01h  1\n",
      "  14  1.8599444e+02 2.54e-01 2.29e-01  -3.8 6.29e+01  -3.9 1.00e+00 1.66e-01f  1\n",
      "  15  1.8497680e+02 2.03e-01 2.37e-01  -3.8 1.23e+01  -3.5 4.49e-01 1.00e+00h  1\n",
      "  16  1.8431904e+02 1.32e+00 8.76e-01  -3.8 2.62e+02  -3.9 4.75e-01 1.14e-01f  1\n",
      "  17  1.8419251e+02 1.26e+00 8.40e-01  -3.8 1.56e+02  -4.4 4.12e-01 4.26e-02h  1\n",
      "  18  1.8355652e+02 1.89e-01 3.51e-01  -3.8 1.42e+01  -4.0 4.32e-01 1.00e+00h  1\n",
      "  19  1.8340539e+02 8.43e-02 1.34e-01  -3.8 1.80e+01  -3.6 3.85e-01 6.91e-01h  1\n",
      "iter    objective    inf_pr   inf_du lg(mu)  ||d||  lg(rg) alpha_du alpha_pr  ls\n",
      "  20  1.8278298e+02 1.71e-01 8.75e-02  -3.8 1.52e+01  -4.0 5.64e-01 1.00e+00h  1\n",
      "  21  1.8137884e+02 1.19e+00 1.93e-01  -3.8 4.27e+01  -4.5 7.99e-01 1.00e+00h  1\n",
      "  22  1.8054397e+02 9.66e-01 2.77e-01  -3.8 2.48e+02  -5.0 1.00e+00 1.90e-01h  1\n",
      "  23  1.7935148e+02 6.67e-01 6.46e-01  -3.8 7.50e+01  -4.6 1.00e+00 1.00e+00h  1\n",
      "  24  1.7911415e+02 2.49e-02 6.09e-02  -3.8 2.17e+01  -4.1 8.34e-01 1.00e+00h  1\n",
      "  25  1.7853139e+02 1.66e-01 8.37e-02  -3.8 3.71e+01  -4.6 1.00e+00 1.00e+00h  1\n",
      "  26  1.7811735e+02 2.20e-01 1.27e-01  -3.8 1.79e+02  -5.1 2.69e-01 1.71e-01h  1\n",
      "  27  1.7729048e+02 7.02e-01 7.41e-01  -3.8 8.17e+01  -4.7 1.00e+00 1.00e+00h  1\n",
      "  28  1.7707325e+02 2.62e-02 7.24e-02  -3.8 2.92e+01  -4.2 7.54e-01 1.00e+00h  1\n",
      "  29  1.7675410e+02 7.16e-02 7.35e-02  -3.8 5.09e+01  -4.7 1.00e+00 5.45e-01h  1\n",
      "iter    objective    inf_pr   inf_du lg(mu)  ||d||  lg(rg) alpha_du alpha_pr  ls\n",
      "  30  1.7655913e+02 9.00e-02 1.00e-01  -3.8 3.02e+02  -5.2 7.05e-02 6.59e-02h  1\n",
      "  31  1.7563304e+02 5.43e-01 5.17e-01  -3.8 9.26e+01  -4.8 1.00e+00 1.00e+00h  1\n",
      "  32  1.7524670e+02 3.62e-01 2.30e-01  -3.8 9.46e+01  -4.3 1.00e+00 4.13e-01h  1\n",
      "  33  1.7495560e+02 3.42e-02 1.10e-01  -3.8 3.39e+01  -3.9 1.00e+00 1.00e+00h  1\n",
      "  34  1.7432016e+02 2.25e-01 2.63e-01  -3.8 9.17e+01  -4.4 1.00e+00 6.21e-01h  1\n",
      "  35  1.7389919e+02 3.08e-02 2.46e-01  -3.8 2.91e+01  -4.0 7.85e-01 1.00e+00h  1\n",
      "  36  1.7313442e+02 1.12e-01 2.69e-01  -3.8 5.50e+01  -4.4 9.62e-01 1.00e+00h  1\n",
      "  37  1.7298814e+02 1.06e-01 2.54e-01  -3.8 1.38e+02  -4.9 2.75e-01 6.49e-02h  1\n",
      "  38  1.7267284e+02 1.08e-01 2.51e-01  -3.8 3.03e+02  -5.4 2.44e-01 7.04e-02h  1\n",
      "  39  1.7196293e+02 1.72e-01 2.87e-01  -3.8 1.32e+02  -5.0 2.15e-01 4.89e-01h  1\n",
      "iter    objective    inf_pr   inf_du lg(mu)  ||d||  lg(rg) alpha_du alpha_pr  ls\n",
      "  40  1.7170124e+02 8.72e-02 1.86e-01  -3.8 5.09e+01  -4.5 1.00e+00 6.14e-01h  1\n",
      "  41  1.7115493e+02 5.63e-01 4.00e-01  -3.8 1.84e+02  -5.0 5.42e-01 5.35e-01h  1\n",
      "  42  1.7100518e+02 4.54e-01 2.74e-01  -3.8 1.60e+02  -4.6 6.72e-01 2.37e-01h  1\n",
      "  43  1.7087406e+02 5.20e-02 2.10e-01  -3.8 4.92e+01  -4.2 1.00e+00 1.00e+00h  1\n",
      "  44  1.7030568e+02 5.46e-01 9.94e-01  -3.8 1.18e+02  -4.6 7.20e-01 9.99e-01h  1\n",
      "  45  1.7005659e+02 8.96e-02 2.74e-01  -3.8 6.21e+01  -4.2 1.00e+00 9.00e-01h  1\n",
      "  46  1.6976863e+02 9.08e-02 3.76e-01  -3.8 5.72e+01  -4.7 1.00e+00 1.00e+00h  1\n",
      "  47  1.6949691e+02 1.31e-01 4.04e-01  -3.8 1.38e+02  -5.2 1.00e+00 4.11e-01h  1\n",
      "  48  1.6825870e+02 3.02e+00 3.40e+00  -3.8 2.78e+02  -5.7 1.00e+00 1.00e+00h  1\n",
      "  49  1.6836002e+02 2.51e+00 2.93e+00  -3.8 1.17e+02  -4.3 1.00e+00 1.73e-01h  1\n",
      "iter    objective    inf_pr   inf_du lg(mu)  ||d||  lg(rg) alpha_du alpha_pr  ls\n",
      "  50  1.6831224e+02 1.07e-01 4.60e-01  -3.8 1.47e+02  -4.8 1.00e+00 1.00e+00h  1\n",
      "  51  1.6813689e+02 1.23e-01 5.27e-01  -3.8 2.72e+02  -5.3 9.60e-01 1.38e-01h  1\n",
      "  52  1.6682861e+02 3.13e+00 7.47e+00  -3.8 2.60e+02  -4.9 1.00e+00 1.00e+00f  1\n",
      "  53  1.6768245e+02 8.31e-01 4.79e+00  -3.8 1.01e+02  -4.4 1.00e+00 1.00e+00h  1\n",
      "  54  1.6658556e+02 2.93e-01 8.08e-01  -3.8 1.42e+02  -4.9 3.94e-01 1.00e+00h  1\n",
      "  55  1.6610888e+02 5.89e-01 7.43e-01  -3.8 1.67e+02  -5.4 6.53e-01 8.03e-01h  1\n",
      "  56  1.6567765e+02 5.10e-01 3.10e-01  -3.8 1.11e+02  -5.0 6.57e-01 1.00e+00h  1\n",
      "  57  1.6562984e+02 4.25e-01 2.49e-01  -3.8 8.85e+01  -4.5 1.00e+00 1.79e-01h  1\n",
      "  58  1.6508708e+02 9.64e-01 1.41e+00  -3.8 3.71e+02  -5.0 9.09e-01 3.37e-01h  1\n",
      "  59  1.6329084e+02 6.19e+00 2.05e+01  -3.8 7.18e+02  -4.6 6.74e-01 4.21e-01h  1\n",
      "iter    objective    inf_pr   inf_du lg(mu)  ||d||  lg(rg) alpha_du alpha_pr  ls\n",
      "  60  1.6329736e+02 6.17e+00 2.04e+01  -3.8 1.65e+02  -5.1 7.39e-02 4.46e-03h  1\n",
      "  61  1.6425200e+02 3.19e+00 1.14e+01  -3.8 8.27e+01  -4.6 1.00e+00 5.75e-01h  1\n",
      "  62  1.6500564e+02 1.15e+00 5.48e+00  -3.8 1.12e+02  -5.1 1.76e-01 1.00e+00h  1\n",
      "  63  1.6324307e+02 8.02e-01 3.01e+00  -3.8 2.07e+02  -4.7 8.24e-01 1.00e+00h  1\n",
      "  64  1.6286773e+02 8.60e-01 7.08e-01  -3.8 2.32e+02  -5.2 3.86e-01 7.83e-01h  1\n",
      "  65  1.6248831e+02 6.38e-01 4.20e-01  -3.8 1.14e+02  -4.7 1.00e+00 1.00e+00h  1\n",
      "  66  1.6234389e+02 2.65e-01 3.08e-01  -3.8 7.11e+01  -4.3 6.38e-01 6.45e-01h  1\n",
      "  67  1.6142824e+02 1.43e+00 4.39e+00  -3.8 4.17e+02  -4.8 2.84e-01 4.10e-01f  1\n",
      "  68  1.6162658e+02 4.20e-01 2.37e+00  -3.8 6.79e+01  -4.4 1.00e+00 7.83e-01h  1\n",
      "  69  1.6085141e+02 3.15e-01 7.47e-01  -3.8 1.09e+02  -4.8 7.19e-01 1.00e+00h  1\n",
      "iter    objective    inf_pr   inf_du lg(mu)  ||d||  lg(rg) alpha_du alpha_pr  ls\n",
      "  70  1.6049887e+02 2.87e-01 6.97e-01  -3.8 1.81e+02  -5.3 7.08e-01 3.22e-01h  1\n",
      "  71  1.5840664e+02 1.20e+01 4.28e+00  -3.8 1.28e+03  -5.8 5.50e-02 3.49e-01f  1\n",
      "  72  1.5984895e+02 6.47e+00 2.31e+00  -3.8 8.93e+01  -4.5 1.00e+00 5.15e-01h  1\n",
      "  73  1.6003264e+02 5.63e+00 2.20e+00  -3.8 1.38e+02  -4.0 7.69e-02 1.37e-01h  1\n",
      "  74  1.5990610e+02 9.83e-01 3.65e+00  -3.8 1.94e+02  -4.5 7.58e-01 1.00e+00h  1\n",
      "  75  1.5883943e+02 3.38e-01 9.07e-01  -3.8 8.88e+01  -5.0 8.53e-02 1.00e+00h  1\n",
      "  76  1.5772920e+02 1.50e+00 2.67e+00  -3.8 1.25e+02  -4.6 5.08e-01 1.00e+00h  1\n",
      "  77  1.5723466e+02 9.31e-01 1.33e+00  -3.8 1.68e+02  -5.0 9.96e-02 4.00e-01h  1\n",
      "  78  1.5698421e+02 9.31e-01 1.28e+00  -3.8 1.34e+03  -5.5 6.30e-02 1.62e-02h  1\n",
      "  79  1.5587956e+02 9.86e-01 5.04e-01  -3.8 2.08e+02  -5.1 4.12e-01 6.06e-01h  1\n",
      "iter    objective    inf_pr   inf_du lg(mu)  ||d||  lg(rg) alpha_du alpha_pr  ls\n",
      "  80  1.5475584e+02 1.59e+00 2.36e+00  -3.8 1.77e+02  -4.7 1.00e+00 9.00e-01h  1\n",
      "  81  1.5477954e+02 2.33e-02 4.27e-01  -3.8 4.64e+01  -4.2 8.22e-01 1.00e+00h  1\n",
      "  82  1.5417091e+02 2.30e-01 3.17e-01  -3.8 4.82e+01  -4.7 1.00e+00 1.00e+00h  1\n",
      "  83  1.5317234e+02 6.39e-01 8.36e-01  -3.8 1.84e+02  -5.2 7.09e-01 5.08e-01h  1\n",
      "  84  1.5227111e+02 7.28e-01 4.76e-01  -3.8 8.81e+01  -4.8 1.26e-01 1.00e+00h  1\n",
      "  85  1.5193496e+02 3.83e-01 4.31e-01  -3.8 7.91e+01  -4.3 1.00e+00 6.25e-01h  1\n",
      "  86  1.5047178e+02 2.83e+00 3.94e+00  -3.8 3.21e+02  -4.8 2.32e-01 5.07e-01h  1\n"
     ]
    },
    {
     "name": "stdout",
     "output_type": "stream",
     "text": [
      "  87  1.5033200e+02 2.76e+00 3.83e+00  -3.8 4.91e+02  -5.3 3.98e-02 2.70e-02h  1\n",
      "  88  1.5018544e+02 1.39e+00 2.26e+00  -3.8 9.26e+01  -4.9 1.00e+00 5.04e-01h  1\n",
      "  89  1.4812408e+02 3.00e+00 2.16e+00  -3.8 6.99e+02  -5.3 5.41e-02 2.67e-01f  1\n",
      "iter    objective    inf_pr   inf_du lg(mu)  ||d||  lg(rg) alpha_du alpha_pr  ls\n",
      "  90  1.4859569e+02 1.67e+00 1.27e+00  -3.8 5.60e+01  -4.0 2.74e-02 4.93e-01h  1\n",
      "  91  1.4814189e+02 3.76e-01 3.50e-01  -3.8 7.99e+01  -4.5 2.08e-01 7.76e-01h  1\n",
      "  92  1.4741520e+02 5.08e-01 3.48e-01  -3.8 1.42e+02  -5.0 3.97e-01 4.39e-01f  1\n",
      "  93  1.4633527e+02 8.26e-01 1.08e+00  -3.8 3.41e+02  -5.4 2.77e-01 2.95e-01h  1\n",
      "  94  1.4593305e+02 7.68e-01 9.94e-01  -3.8 4.07e+02  -5.0 9.04e-02 8.54e-02h  1\n",
      "  95  1.4579207e+02 6.34e-01 8.03e-01  -3.8 1.02e+02  -4.6 7.61e-01 1.75e-01h  1\n",
      "  96  1.4576495e+02 3.06e-02 9.02e-02  -3.8 3.74e+01  -4.2 1.00e+00 1.00e+00h  1\n",
      "  97  1.4518311e+02 3.11e-01 5.50e-01  -3.8 1.19e+02  -4.6 4.80e-01 4.98e-01h  1\n",
      "  98  1.4500464e+02 2.21e-01 3.88e-01  -3.8 4.12e+01  -4.2 6.91e-01 3.32e-01h  1\n",
      "  99  1.4449924e+02 3.34e-01 4.33e-01  -3.8 1.28e+02  -4.7 4.61e-01 3.08e-01h  1\n",
      "iter    objective    inf_pr   inf_du lg(mu)  ||d||  lg(rg) alpha_du alpha_pr  ls\n",
      " 100  1.4369272e+02 5.90e-01 5.52e-01  -3.8 2.83e+02  -5.2 3.35e-01 2.57e-01h  1\n",
      " 101  1.4298039e+02 3.28e-01 3.82e-01  -3.8 7.64e+01  -4.8 1.00e+00 9.78e-01h  1\n",
      " 102  1.4279682e+02 3.45e-01 3.86e-01  -3.8 2.04e+03  -5.2 4.55e-02 6.79e-03f  1\n",
      " 103  1.4195412e+02 7.09e-01 7.49e-01  -3.8 1.80e+02  -4.8 3.46e-01 4.12e-01f  1\n",
      " 104  1.4169938e+02 5.71e-01 6.75e-01  -3.8 1.09e+02  -4.4 1.00e+00 2.47e-01h  1\n",
      " 105  1.4144178e+02 6.01e-01 7.51e-01  -3.8 2.46e+03  -4.9 1.96e-02 8.86e-03f  1\n",
      " 106  1.4089746e+02 3.48e-01 3.61e-01  -3.8 7.38e+01  -4.4 1.00e+00 7.22e-01h  1\n",
      " 107  1.4007358e+02 3.91e-01 5.72e-01  -3.8 1.09e+02  -4.9 8.05e-01 6.93e-01h  1\n",
      " 108  1.3970981e+02 4.43e-01 5.98e-01  -3.8 8.48e+02  -5.4 4.14e-02 3.67e-02h  1\n",
      " 109  1.3922935e+02 4.25e-01 5.35e-01  -3.8 2.00e+02  -5.0 5.84e-01 1.96e-01h  1\n",
      "iter    objective    inf_pr   inf_du lg(mu)  ||d||  lg(rg) alpha_du alpha_pr  ls\n",
      " 110  1.3847419e+02 5.15e-01 7.14e-01  -3.8 7.99e+01  -4.5 1.00e+00 1.00e+00h  1\n",
      " 111  1.3838141e+02 3.98e-01 5.61e-01  -3.8 4.23e+01  -4.1 3.18e-01 2.35e-01h  1\n",
      " 112  1.3762548e+02 5.81e-01 1.26e+00  -3.8 1.62e+02  -4.6 2.15e-01 4.35e-01h  1\n",
      " 113  1.3746728e+02 5.78e-01 1.22e+00  -3.8 4.73e+02  -5.1 1.47e-01 2.81e-02h  1\n",
      " 114  1.3666017e+02 2.85e-01 8.34e-01  -3.8 8.68e+01  -4.6 1.00e+00 9.74e-01h  1\n",
      " 115  1.3611383e+02 3.41e-01 6.78e-01  -3.8 1.80e+02  -5.1 2.38e-01 2.66e-01h  1\n",
      " 116  1.3530799e+02 4.75e-01 4.45e-01  -3.8 8.13e+01  -4.7 1.00e+00 8.24e-01h  1\n",
      " 117  1.3504899e+02 2.94e-01 3.56e-01  -3.8 6.32e+01  -4.3 1.00e+00 4.82e-01h  1\n",
      " 118  1.3464627e+02 3.58e-01 5.46e-01  -3.8 2.85e+02  -4.7 4.69e-02 1.28e-01h  1\n",
      " 119  1.3429754e+02 2.35e-01 4.28e-01  -3.8 5.94e+01  -4.3 8.14e-01 5.10e-01h  1\n",
      "iter    objective    inf_pr   inf_du lg(mu)  ||d||  lg(rg) alpha_du alpha_pr  ls\n",
      " 120  1.3332510e+02 6.92e-01 6.91e-01  -3.8 1.44e+02  -4.8 2.67e-01 5.28e-01h  1\n",
      " 121  1.3245299e+02 6.79e-01 8.57e-01  -3.8 3.19e+02  -5.3 1.79e-01 2.23e-01h  1\n",
      " 122  1.3131309e+02 8.15e-01 6.44e-01  -3.8 1.62e+02  -4.8 7.84e-01 5.29e-01h  1\n",
      " 123  1.3107719e+02 6.74e-01 6.18e-01  -3.8 1.29e+02  -4.4 6.11e-01 1.95e-01h  1\n",
      " 124  1.3103613e+02 2.45e-01 2.97e-01  -3.8 3.56e+01  -4.0 1.00e+00 6.35e-01h  1\n",
      " 125  1.3061920e+02 2.00e-01 3.39e-01  -3.8 7.31e+01  -4.5 9.56e-01 4.93e-01h  1\n",
      " 126  1.2938190e+02 1.07e+00 1.11e+00  -3.8 2.01e+02  -4.9 7.04e-02 4.59e-01h  1\n",
      " 127  1.2878447e+02 1.06e+00 1.16e+00  -3.8 1.23e+03  -5.4 2.37e-02 4.46e-02h  1\n",
      " 128  1.2831626e+02 9.76e-01 1.08e+00  -3.8 3.35e+02  -5.0 2.96e-01 9.82e-02h  1\n",
      " 129  1.2780663e+02 3.95e-01 2.89e-01  -3.8 8.42e+01  -4.6 6.21e-01 5.77e-01h  1\n",
      "iter    objective    inf_pr   inf_du lg(mu)  ||d||  lg(rg) alpha_du alpha_pr  ls\n",
      " 130  1.2764871e+02 1.37e-01 1.20e-01  -3.8 4.07e+01  -4.1 1.00e+00 6.45e-01h  1\n",
      " 131  1.2660193e+02 7.53e-01 1.97e+00  -3.8 1.75e+02  -4.6 4.42e-01 5.39e-01h  1\n",
      " 132  1.2651150e+02 5.57e-01 1.44e+00  -3.8 4.21e+01  -4.2 9.09e-01 2.60e-01h  1\n",
      " 133  1.2550898e+02 4.86e-01 8.37e-01  -3.8 1.08e+02  -4.7 3.40e-01 8.11e-01h  1\n",
      " 134  1.2473140e+02 4.51e-01 8.75e-01  -3.8 2.07e+02  -5.1 3.54e-01 2.85e-01h  1\n",
      " 135  1.2417742e+02 4.22e-01 5.77e-01  -3.8 1.23e+02  -4.7 7.02e-01 3.35e-01h  1\n",
      " 136  1.2373621e+02 2.00e-01 4.23e-01  -3.8 6.39e+01  -4.3 8.84e-01 8.38e-01h  1\n",
      " 137  1.2311662e+02 4.22e-01 1.08e+00  -3.8 6.51e+02  -4.8 1.24e-01 8.36e-02f  1\n",
      " 138  1.2236133e+02 3.76e-01 6.00e-01  -3.8 7.51e+01  -4.3 5.34e-01 8.40e-01h  1\n",
      " 139  1.2210734e+02 3.16e-01 4.87e-01  -3.8 9.35e+01  -4.8 7.93e-01 1.90e-01h  1\n",
      "iter    objective    inf_pr   inf_du lg(mu)  ||d||  lg(rg) alpha_du alpha_pr  ls\n",
      " 140  1.2049453e+02 1.52e+00 1.70e+00  -3.8 2.62e+02  -5.3 1.21e-01 4.88e-01f  1\n",
      " 141  1.1783385e+02 3.94e+00 6.75e+00  -3.8 8.98e+02  -4.9 2.71e-02 2.12e-01f  1\n",
      " 142  1.1848296e+02 2.54e+00 4.37e+00  -3.8 6.05e+01  -4.4 1.00e+00 3.80e-01h  1\n",
      " 143  1.1722782e+02 1.15e+00 1.02e+00  -3.8 2.18e+02  -4.9 9.48e-02 5.12e-01h  1\n",
      " 144  1.1656729e+02 9.89e-01 7.68e-01  -3.8 3.53e+02  -5.4 3.27e-02 1.44e-01h  1\n",
      " 145  1.1560082e+02 7.62e-01 5.75e-01  -3.8 1.91e+02  -5.0 4.39e-02 4.30e-01h  1\n",
      " 146  1.1481362e+02 8.80e-01 2.31e+00  -3.8 1.94e+02  -4.5 3.31e-01 5.37e-01h  1\n",
      " 147  1.1484196e+02 4.17e-01 1.13e+00  -3.8 2.56e+01  -4.1 1.03e-01 5.35e-01h  1\n",
      " 148  1.1448666e+02 2.24e-01 5.27e-01  -3.8 6.15e+01  -4.6 5.92e-01 4.79e-01h  1\n",
      " 149  1.1424932e+02 1.99e-01 4.54e-01  -3.8 1.99e+02  -5.1 7.64e-02 1.22e-01h  1\n",
      "iter    objective    inf_pr   inf_du lg(mu)  ||d||  lg(rg) alpha_du alpha_pr  ls\n",
      " 150  1.1361281e+02 3.65e-01 3.12e-01  -3.8 3.45e+02  -5.6 1.75e-01 1.55e-01h  1\n",
      " 151  1.1310618e+02 4.68e-01 2.45e-01  -3.8 3.04e+02  -5.1 1.29e-01 1.63e-01h  1\n",
      " 152  1.1292627e+02 4.12e-01 2.12e-01  -3.8 1.21e+02  -4.7 2.45e-01 1.34e-01h  1\n",
      " 153  1.1290300e+02 4.12e-01 2.12e-01  -3.8 5.85e+03  -5.2 1.44e-02 2.95e-04h  1\n",
      " 154  1.1219956e+02 4.64e-01 2.98e-01  -3.8 1.37e+02  -4.8 1.00e+00 4.34e-01f  1\n",
      " 155  1.1154577e+02 2.83e-01 8.33e-01  -3.8 6.51e+01  -4.3 7.45e-01 1.00e+00h  1\n",
      " 156  1.1142020e+02 2.78e-01 8.17e-01  -3.8 2.04e+02  -4.8 3.09e-01 4.32e-02h  1\n",
      " 157  1.1133898e+02 2.47e-01 7.24e-01  -3.8 5.32e+01  -4.4 1.00e+00 1.21e-01h  1\n",
      " 158  1.1083774e+02 3.23e-01 7.35e-01  -3.8 1.49e+02  -4.9 4.42e-01 2.30e-01h  1\n",
      " 159  1.1029257e+02 4.13e-01 6.65e-01  -3.8 5.22e+02  -5.3 1.21e-02 8.71e-02h  1\n",
      "iter    objective    inf_pr   inf_du lg(mu)  ||d||  lg(rg) alpha_du alpha_pr  ls\n",
      " 160  1.0894006e+02 1.28e+00 2.05e+00  -3.8 1.22e+02  -4.9 1.00e+00 1.00e+00h  1\n",
      " 161  1.0880334e+02 1.11e+00 1.75e+00  -3.8 8.99e+01  -4.5 4.61e-01 1.37e-01h  1\n",
      " 162  1.0879294e+02 9.80e-01 1.55e+00  -3.8 3.74e+01  -4.1 1.00e+00 1.15e-01h  1\n",
      " 163  1.0826286e+02 4.64e-01 5.63e-01  -3.8 8.44e+01  -4.5 5.82e-01 5.97e-01h  1\n",
      " 164  1.0772741e+02 4.69e-01 8.63e-01  -3.8 2.94e+02  -5.0 2.74e-01 1.56e-01h  1\n",
      " 165  1.0740976e+02 2.62e-01 5.18e-01  -3.8 6.31e+01  -4.6 9.15e-01 5.12e-01h  1\n",
      " 166  1.0692314e+02 3.16e-01 4.35e-01  -3.8 1.68e+02  -5.1 2.22e-01 2.63e-01h  1\n",
      " 167  1.0683167e+02 2.67e-01 3.67e-01  -3.8 6.48e+01  -4.6 9.42e-01 1.64e-01h  1\n",
      " 168  1.0643570e+02 3.23e-01 3.37e-01  -3.8 2.73e+02  -5.1 3.95e-02 1.42e-01h  1\n",
      " 169  1.0615766e+02 2.62e-01 2.71e-01  -3.8 7.40e+01  -4.7 5.60e-01 4.10e-01h  1\n",
      "iter    objective    inf_pr   inf_du lg(mu)  ||d||  lg(rg) alpha_du alpha_pr  ls\n",
      " 170  1.0565338e+02 4.24e-01 4.72e-01  -3.8 3.83e+02  -5.2 2.59e-02 1.17e-01h  1\n",
      " 171  1.0528768e+02 3.31e-01 5.04e-01  -3.8 1.02e+02  -4.7 1.00e+00 3.86e-01h  1\n",
      " 172  1.0524346e+02 2.35e-01 3.82e-01  -3.8 3.20e+01  -4.3 7.30e-01 2.91e-01h  1\n",
      " 173  1.0501155e+02 2.16e-01 4.86e-01  -3.8 9.87e+01  -4.8 3.58e-01 2.44e-01h  1\n",
      " 174  1.0496807e+02 1.75e-01 3.98e-01  -3.8 3.04e+01  -4.4 1.00e+00 1.98e-01h  1\n",
      " 175  1.0490557e+02 1.68e-01 3.86e-01  -3.8 1.08e+02  -4.8 4.42e-01 5.35e-02h  1\n",
      " 176  1.0417869e+02 8.46e-01 2.30e+00  -3.8 5.39e+02  -5.3 2.88e-01 1.41e-01f  1\n",
      " 177  1.0402637e+02 7.89e-01 2.11e+00  -3.8 1.61e+02  -4.9 8.61e-01 7.43e-02h  1\n",
      " 178  1.0387158e+02 5.24e-02 1.42e-01  -3.8 3.19e+01  -4.5 1.00e+00 1.00e+00h  1\n",
      " 179  1.0375153e+02 6.37e-02 1.18e-01  -3.8 5.05e+01  -4.9 1.00e+00 3.23e-01h  1\n",
      "iter    objective    inf_pr   inf_du lg(mu)  ||d||  lg(rg) alpha_du alpha_pr  ls\n",
      " 180  1.0331611e+02 6.02e-01 1.30e+00  -3.8 9.01e+01  -5.4 5.26e-01 7.63e-01h  1\n",
      " 181  1.0312356e+02 5.83e-01 1.39e+00  -3.8 2.67e+02  -5.0 7.27e-02 7.05e-02h  1\n",
      " 182  1.0304264e+02 4.06e-01 1.02e+00  -3.8 4.01e+01  -4.6 7.03e-01 3.08e-01h  1\n",
      " 183  1.0302109e+02 4.02e-01 1.01e+00  -3.8 2.06e+02  -5.0 3.22e-01 9.73e-03h  1\n",
      " 184  1.0289477e+02 1.37e-01 6.08e-01  -3.8 3.99e+01  -4.6 1.00e+00 1.00e+00h  1\n",
      " 185  1.0269328e+02 1.90e-01 6.26e-01  -3.8 7.02e+01  -5.1 9.63e-01 4.69e-01h  1\n",
      " 186  1.0241228e+02 4.52e-01 1.80e+00  -3.8 1.35e+02  -5.6 1.47e-01 4.20e-01h  1\n",
      " 187  1.0237595e+02 4.47e-01 1.78e+00  -3.8 3.13e+02  -6.0 1.45e-01 1.41e-02h  1\n",
      " 188  1.0225951e+02 4.19e-01 1.66e+00  -3.8 1.72e+02  -6.5 7.27e-02 1.09e-01h  1\n",
      " 189  1.0216738e+02 4.27e-01 1.69e+00  -3.8 1.04e+03  -7.0 9.54e-02 1.52e-02h  1\n",
      "iter    objective    inf_pr   inf_du lg(mu)  ||d||  lg(rg) alpha_du alpha_pr  ls\n",
      " 190  1.0216999e+02 4.24e-01 1.68e+00  -3.8 1.07e+01  -4.8 1.00e+00 8.63e-03h  1\n",
      " 191  1.0226954e+02 2.57e-01 1.01e+00  -3.8 1.78e+01  -5.2 1.00e+00 3.92e-01h  1\n",
      " 192  1.0241609e+02 2.43e-02 1.61e-01  -3.8 2.18e+01  -5.7 1.00e+00 1.00e+00h  1\n"
     ]
    },
    {
     "name": "stdout",
     "output_type": "stream",
     "text": [
      " 193  1.0244193e+02 1.34e-03 8.09e-03  -3.8 2.34e+00  -4.4 1.00e+00 1.00e+00h  1\n",
      " 194  1.0243558e+02 3.48e-04 2.40e-03  -3.8 8.72e-01  -4.0 1.00e+00 1.00e+00h  1\n",
      " 195  1.0243582e+02 4.10e-03 7.85e-02  -3.8 7.85e+00  -4.4 1.00e+00 5.00e-01h  2\n",
      " 196  1.0241329e+02 2.82e-03 2.27e-02  -3.8 3.19e+00  -4.0 1.00e+00 1.00e+00h  1\n",
      " 197  1.0239601e+02 1.05e-02 8.37e-02  -3.8 6.32e+01  -4.5 5.50e-02 9.85e-02h  4\n",
      " 198  1.0232042e+02 8.23e-03 9.62e-02  -3.8 7.34e+00  -4.1 4.16e-01 1.00e+00h  1\n",
      " 199  1.0221057e+02 3.77e-02 2.32e-01  -3.8 2.33e+01  -4.5 1.14e-01 1.00e+00h  1\n",
      "iter    objective    inf_pr   inf_du lg(mu)  ||d||  lg(rg) alpha_du alpha_pr  ls\n",
      " 200  1.0216535e+02 3.89e-02 1.60e-01  -3.8 6.94e+01  -5.0 5.46e-01 1.13e-01h  1\n",
      " 201  1.0206820e+02 1.90e-01 4.47e-01  -3.8 3.73e+03  -5.5 7.90e-05 1.05e-02f  1\n",
      " 202  1.0177934e+02 6.94e-01 1.35e+00  -3.8 1.46e+02  -5.1 3.15e-01 5.23e-01h  1\n",
      " 203  1.0147786e+02 4.92e-01 7.53e-01  -3.8 1.17e+02  -5.6 2.84e-01 3.53e-01h  1\n",
      " 204  1.0143232e+02 4.60e-01 7.10e-01  -3.8 1.44e+02  -6.0 2.74e-01 6.97e-02h  1\n",
      " 205  1.0139363e+02 4.37e-01 6.78e-01  -3.8 1.69e+02  -6.5 1.38e-01 5.41e-02h  1\n",
      " 206  1.0131261e+02 3.81e-01 5.92e-01  -3.8 1.49e+02  -7.0 4.74e-01 2.01e-01h  1\n",
      " 207  1.0130411e+02 3.69e-01 5.71e-01  -3.8 1.18e+02  -7.5 4.05e-01 3.49e-02h  1\n",
      " 208  1.0135470e+02 3.50e-01 5.43e-01  -3.8 7.83e+01  -7.9 8.58e-02 5.51e-02H  1\n",
      " 209  1.0146522e+02 3.48e-01 5.21e-01  -3.8 2.56e+02  -8.4 1.63e-01 6.76e-02h  1\n",
      "iter    objective    inf_pr   inf_du lg(mu)  ||d||  lg(rg) alpha_du alpha_pr  ls\n",
      " 210  1.0140317e+02 2.64e-01 3.54e-01  -3.8 7.71e+01  -8.9 9.69e-01 3.65e-01h  1\n",
      " 211  1.0144893e+02 2.68e-01 9.18e-01  -3.8 5.59e+01  -9.4 6.17e-01 1.00e+00h  1\n",
      " 212  1.0145141e+02 1.74e-01 5.42e-01  -3.8 4.61e+01  -9.8 7.96e-01 6.09e-01h  1\n",
      " 213  1.0150741e+02 1.41e-03 1.37e-02  -3.8 8.03e+00  -4.9 1.00e+00 1.00e+00h  1\n",
      " 214  1.0150519e+02 4.15e-06 2.09e-04  -3.8 1.30e-01  -5.4 1.00e+00 1.00e+00h  1\n",
      " 215  1.0150504e+02 2.01e-03 2.34e-02  -3.8 8.72e+00  -5.9 1.00e+00 4.49e-01h  2\n",
      " 216  1.0150490e+02 3.35e-03 2.83e-02  -3.8 1.10e+01  -6.3 1.00e+00 3.71e-01h  2\n",
      " 217  1.0150426e+02 4.30e-03 9.18e-03  -3.8 6.05e+00  -6.8 1.00e+00 1.00e+00h  1\n",
      " 218  1.0150244e+02 5.58e-05 1.75e-04  -3.8 7.75e-01  -7.3 1.00e+00 1.00e+00h  1\n",
      " 219  1.0149787e+02 1.88e-04 3.90e-04  -5.7 1.24e+00  -7.8 9.88e-01 9.97e-01h  1\n",
      "iter    objective    inf_pr   inf_du lg(mu)  ||d||  lg(rg) alpha_du alpha_pr  ls\n",
      " 220  1.0149774e+02 4.89e-06 1.05e-05  -5.7 1.91e-01  -8.2 1.00e+00 1.00e+00h  1\n",
      " 221  1.0149768e+02 3.05e-07 6.08e-07  -8.6 4.92e-02  -8.7 9.99e-01 1.00e+00h  1\n",
      " 222  1.0149768e+02 1.43e-10 2.80e-10  -8.6 1.06e-03  -9.2 1.00e+00 1.00e+00h  1\n",
      "\n",
      "Number of Iterations....: 222\n",
      "\n",
      "                                   (scaled)                 (unscaled)\n",
      "Objective...............:   1.0149767957695899e+02    1.0149767957695899e+02\n",
      "Dual infeasibility......:   2.7966517990307693e-10    2.7966517990307693e-10\n",
      "Constraint violation....:   1.4252687918769880e-10    1.4252687918769880e-10\n",
      "Variable bound violation:   3.8926596168664673e-08    3.8926596168664673e-08\n",
      "Complementarity.........:   2.5735381804712398e-09    2.5735381804712398e-09\n",
      "Overall NLP error.......:   2.5735381804712398e-09    2.5735381804712398e-09\n",
      "\n",
      "\n",
      "Number of objective function evaluations             = 237\n",
      "Number of objective gradient evaluations             = 223\n",
      "Number of equality constraint evaluations            = 237\n",
      "Number of inequality constraint evaluations          = 0\n",
      "Number of equality constraint Jacobian evaluations   = 223\n",
      "Number of inequality constraint Jacobian evaluations = 0\n",
      "Number of Lagrangian Hessian evaluations             = 222\n",
      "Total seconds in IPOPT                               = 3.189\n",
      "\n",
      "EXIT: Optimal Solution Found.\n",
      "           S  :   t_proc      (avg)   t_wall      (avg)    n_eval\n",
      "       nlp_f  |   5.01ms ( 21.14us)   5.02ms ( 21.16us)       237\n",
      "       nlp_g  |  29.93ms (126.27us)  29.44ms (124.20us)       237\n",
      "  nlp_grad_f  |  10.91ms ( 48.72us)  10.84ms ( 48.41us)       224\n",
      "  nlp_hess_l  |  64.01ms (288.34us)  63.95ms (288.06us)       222\n",
      "   nlp_jac_g  |  54.37ms (242.71us)  54.16ms (241.79us)       224\n",
      "       total  |   3.19 s (  3.19 s)   3.19 s (  3.19 s)         1\n"
     ]
    }
   ],
   "source": [
    "u0 = mpc.make_step(x0)"
   ]
  },
  {
   "cell_type": "markdown",
   "metadata": {},
   "source": [
    "The first optimization will take rather long (4 seconds) but in the end we get:\n",
    "\n",
    "```\n",
    "EXIT: Optimal Solution Found.\n",
    "```\n",
    "\n",
    "which tells us that we found an optimal solution. Note that follow-up optimizations take around 100 ms due to warmstarting.\n",
    "\n",
    "We can visualize the open-loop prediction with:"
   ]
  },
  {
   "cell_type": "code",
   "execution_count": 26,
   "metadata": {},
   "outputs": [
    {
     "data": {
      "image/png": "[encoded data removed]",
      "text/plain": [
       "<Figure size 1152x648 with 5 Axes>"
      ]
     },
     "execution_count": 26,
     "metadata": {},
     "output_type": "execute_result"
    }
   ],
   "source": [
    "line1, line2 = pendulum_bars(x0)\n",
    "bar1[0].set_data(line1[0],line1[1])\n",
    "bar2[0].set_data(line2[0],line2[1])\n",
    "mpc_graphics.plot_predictions()\n",
    "mpc_graphics.reset_axes()\n",
    "\n",
    "fig"
   ]
  },
  {
   "cell_type": "markdown",
   "metadata": {},
   "source": [
    "The open-loop prediction looks perfectly fine! We see that within the horizon the potential energy settles on a plateau greater than zero, while the kinetic energy becomes zero. This indicates our desired up-up position. Both angles seem to reach $2\\pi$."
   ]
  },
  {
   "cell_type": "markdown",
   "metadata": {},
   "source": [
    "### Run closed-loop\n",
    "\n",
    "The closed-loop system is now simulated for 100 steps (and the ouput of the optimizer is suppressed):"
   ]
  },
  {
   "cell_type": "code",
   "execution_count": null,
   "metadata": {},
   "outputs": [],
   "source": [
    "%%capture\n",
    "# Quickly reset the history of the MPC data object.\n",
    "mpc.reset_history()\n",
    "\n",
    "n_steps = 100\n",
    "for k in range(n_steps):\n",
    "    u0 = mpc.make_step(x0)\n",
    "    y_next = simulator.make_step(u0)\n",
    "    x0 = estimator.make_step(y_next)"
   ]
  },
  {
   "cell_type": "markdown",
   "metadata": {},
   "source": [
    "### Results"
   ]
  },
  {
   "cell_type": "markdown",
   "metadata": {},
   "source": [
    "The next cell converts the results of the closed-loop MPC simulation into a gif (might take a few minutes):"
   ]
  },
  {
   "cell_type": "code",
   "execution_count": 39,
   "metadata": {},
   "outputs": [],
   "source": [
    "from matplotlib.animation import FuncAnimation, FFMpegWriter, ImageMagickWriter\n",
    "\n",
    "# The function describing the gif:\n",
    "x_arr = mpc.data['_x']\n",
    "def update(t_ind):\n",
    "    line1, line2 = pendulum_bars(x_arr[t_ind])\n",
    "    bar1[0].set_data(line1[0],line1[1])\n",
    "    bar2[0].set_data(line2[0],line2[1])\n",
    "    mpc_graphics.plot_results(t_ind)\n",
    "    mpc_graphics.plot_predictions(t_ind)\n",
    "    mpc_graphics.reset_axes()\n",
    "    \n",
    "\n",
    "anim = FuncAnimation(fig, update, frames=n_steps, repeat=False)\n",
    "gif_writer = ImageMagickWriter(fps=20)\n",
    "anim.save('anim_dip.gif', writer=gif_writer)"
   ]
  },
  {
   "cell_type": "markdown",
   "metadata": {},
   "source": [
    "The result is shown below, where solid lines are the recorded trajectories and dashed lines are the predictions of the scenarios:"
   ]
  },
  {
   "cell_type": "markdown",
   "metadata": {},
   "source": [
    "![animdip](anim_dip.gif \"Animation double inverted pendulum being errected.\")"
   ]
  },
  {
   "cell_type": "markdown",
   "metadata": {},
   "source": [
    "## Controller with obstacle avoidance\n",
    "\n",
    "To make the example even more interesting it is possible to add obstacles and include a set-point tracking task, where the pendulum must be errect at a desired location. \n",
    "\n",
    "**Please note** that the animation below now shows the pendulum position (of the cart) as well as the desired setpoint instead of the angles.\n",
    "\n",
    "![animdipobs](anim_dip_obstacles.gif \"Animation of double inverteded pendulum being errected and avoiding an obstacle. Including a setpoint change from the left side of the obstacle to the right side of the obstacle.\")\n",
    "\n",
    "The code to create this animation is included in the **do-mpc** example files and is just an extension of the example shown above.\n",
    "\n",
    "The necessary changes include the detection of obstacle intersection and an adapted objective function that includes the set-point tracking for the position."
   ]
  }
 ],
 "metadata": {
  "kernelspec": {
   "display_name": "Python 3 (ipykernel)",
   "language": "python",
   "name": "python3"
  },
  "language_info": {
   "codemirror_mode": {
    "name": "ipython",
    "version": 3
   },
   "file_extension": ".py",
   "mimetype": "text/x-python",
   "name": "python",
   "nbconvert_exporter": "python",
   "pygments_lexer": "ipython3",
   "version": "3.9.12"
  },
  "toc": {
   "base_numbering": 1,
   "nav_menu": {},
   "number_sections": true,
   "sideBar": true,
   "skip_h1_title": false,
   "title_cell": "Table of Contents",
   "title_sidebar": "Contents",
   "toc_cell": false,
   "toc_position": {},
   "toc_section_display": true,
   "toc_window_display": false
  },
  "vscode": {
   "interpreter": {
    "hash": "5f4a6fa8aaa157aed5881fd5a448db7d6ff74d47dddce926cc23721859be5b7d"
   }
  }
 },
 "nbformat": 4,
 "nbformat_minor": 2
}
